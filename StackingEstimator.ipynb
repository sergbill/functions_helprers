{
 "cells": [
  {
   "cell_type": "code",
   "execution_count": 22,
   "metadata": {},
   "outputs": [],
   "source": [
    "class StackingEstimator():\n",
    "    \n",
    "    def __init__(self, models, cvs, n_iterations, subsamples, seed):\n",
    "        '''\n",
    "        models - список с ансамблем моделей\n",
    "        cvs - список с схемами валидации\n",
    "        n_iterations - итераций стекинга\n",
    "        subsamples - список с долями используемых признаков \n",
    "        seed - генератор случайных чисел\n",
    "        '''        \n",
    "        self.models = models\n",
    "        self.cvs = cvs\n",
    "        self.n_iterations = n_iterations\n",
    "        self.subsamples = subsamples\n",
    "        self.seed = seed\n",
    "    def fit(self, X, y):\n",
    "        '''\n",
    "        1) обучаем модели на валидации\n",
    "        2) сохраняем обученные модели\n",
    "        '''        \n",
    "        try:\n",
    "            _X, _y = np.array(X), np.array(y)\n",
    "        except:\n",
    "            _X, _y = X, y  \n",
    "        nfeatures = _X.shape[1]\n",
    "        feat_idxs = np.arange(nfeatures)\n",
    "        estimators_use_idxs = []        \n",
    "        for iteration in range(self.n_iterations):\n",
    "            for model_idx, model in enumerate(models):\n",
    "                for subsample_idx, subsample in subsamples:\n",
    "                    np.random.seed(seed+iteration+model_idx+subsample_idx+3)\n",
    "                    use_idxs = np.random.choice(feat_idxs, np.int32(np.around(subsample*nfeatures)))\n",
    "                    for cv in cvs:\n",
    "                        for tr_idx, val_idx in cv.split(_y):\n",
    "                            model.fit(_X[tr_idx, use_idxs], _y[tr_idx])\n",
    "                            estimators_use_idxs.append((model, use_idxs))        \n",
    "        self.estimators_use_idxs = estimators_use_idxs\n",
    "    def get_metafeatures(self, X):\n",
    "        '''\n",
    "        с помощью обученных моделей получаем метапризнаки\n",
    "        '''\n",
    "        try:\n",
    "            _X = np.array(X)\n",
    "        except:\n",
    "            _X = X\n",
    "        L = []    \n",
    "        for use_idxs, estimator in self.estimators_use_idxs:\n",
    "            try:\n",
    "                L.append(estimator.predict_proba(_X[:, use_idxs])[:, 1])\n",
    "            except:\n",
    "                L.append(estimator.predict(_X[:, use_idxs]))\n",
    "                \n",
    "        return np.column_stack(L)"
   ]
  },
  {
   "cell_type": "code",
   "execution_count": null,
   "metadata": {},
   "outputs": [],
   "source": []
  }
 ],
 "metadata": {
  "kernelspec": {
   "display_name": "Python 3",
   "language": "python",
   "name": "python3"
  },
  "language_info": {
   "codemirror_mode": {
    "name": "ipython",
    "version": 3
   },
   "file_extension": ".py",
   "mimetype": "text/x-python",
   "name": "python",
   "nbconvert_exporter": "python",
   "pygments_lexer": "ipython3",
   "version": "3.8.3"
  }
 },
 "nbformat": 4,
 "nbformat_minor": 4
}
