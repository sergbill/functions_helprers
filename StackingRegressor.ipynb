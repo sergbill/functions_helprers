{
 "cells": [
  {
   "cell_type": "code",
   "execution_count": 3,
   "metadata": {},
   "outputs": [],
   "source": [
    "class StackingRegressor():\n",
    "    def __init__(self, models, nfolds, seed):\n",
    "        '''\n",
    "        models - список с ансамблем моделей\n",
    "        nfolds - число фолдов для ооф предсказаний\n",
    "        seed - генератор случайных чисел\n",
    "        '''        \n",
    "        self.models = models\n",
    "        self.nfolds = nfolds\n",
    "        self.seed = seed\n",
    "    def fit(self, X, y):\n",
    "        '''\n",
    "        1) обучаем модели на валидации\n",
    "        2) сохраняем обученные модели\n",
    "        '''        \n",
    "        try:\n",
    "            _X, _y = np.array(X), np.array(y)\n",
    "        except:\n",
    "            _X, _y = X, y        \n",
    "        estimators = []\n",
    "        for model in tqdm_notebook(self.models):            \n",
    "            for tr_idx, val_idx in KFold(self.nfolds, random_state = self.seed).split(_X):\n",
    "                model.fit(_X[tr_idx], _y[tr_idx])\n",
    "                estimators.append(model)\n",
    "        self.fitted_estimators = estimators\n",
    "    def get_metafeatures(self, X):\n",
    "        '''\n",
    "        с помощью обученных моделей получаем метапризнаки\n",
    "        '''\n",
    "        try:\n",
    "            _X = np.array(X)\n",
    "        except:\n",
    "            _X = X\n",
    "        L = []    \n",
    "        for estimator in self.fitted_estimators:\n",
    "            L.append(estimator.predict(_X))\n",
    "        return np.column_stack(L)"
   ]
  }
 ],
 "metadata": {
  "kernelspec": {
   "display_name": "Python 3",
   "language": "python",
   "name": "python3"
  },
  "language_info": {
   "codemirror_mode": {
    "name": "ipython",
    "version": 3
   },
   "file_extension": ".py",
   "mimetype": "text/x-python",
   "name": "python",
   "nbconvert_exporter": "python",
   "pygments_lexer": "ipython3",
   "version": "3.8.3"
  }
 },
 "nbformat": 4,
 "nbformat_minor": 4
}
